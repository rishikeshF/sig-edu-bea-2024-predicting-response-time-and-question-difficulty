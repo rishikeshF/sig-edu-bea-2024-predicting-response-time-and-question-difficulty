{
 "cells": [
  {
   "cell_type": "markdown",
   "id": "dd224547-6976-44d3-a611-16f57b02ce61",
   "metadata": {},
   "source": [
    "# BEA 2024 Shared Task\n",
    "\n",
    "## Automated Prediction of Item Difficulty and Item Response Time"
   ]
  },
  {
   "cell_type": "markdown",
   "id": "a562236a-2d63-4bb6-bca9-8ec17ef96249",
   "metadata": {},
   "source": [
    "### Problem Statement:  \n",
    "\n",
    "\r\n",
    "Motivation\r\n",
    "For standardized exams to be fair and valid, test items must meet certain criteria. One important criterion is that the questions should cover a wide range of difficulty levels to gather information about the abilities of test takers effectively. Additionally, it is essential to allocate an appropriate amount of time for each question: too little time can make the exam speeded, while too much time can make it inefficient. Typically, item difficulty and response time data are collected via a process called pretesting, where new items are embedded in live exams alongside scored items. While robust, this process of collecting item characteristics data is time-consuming and expensive. As noted by Settles et al. (2020), “This labor-intensive process often restricts the number of items that can feasibly be created, which in turn poses a threat to security: Items may be copied and leaked, or simply used too often”.\r\n",
    "\r\n",
    "To address this challenge (also referred to as the “cold-start parameter estimation problem” (McCarthy et al., 2021)), there is growing interest in predicting item characteristics such as difficulty and response time based on the item text. Such estimates can be used to “jump-start” parameter estimation by exposing the item to a smaller sample of test-takers, or improve fairness by reducing the time variance for forms that include pretest items (Baldwin et al., 2020).\r\n",
    "\r\n",
    "Due to difficulties with sharing exam data, efforts to advance the state-of-the-art in item parameter prediction have been fragmented and conducted in individual institutions, with no transparent evaluation on a publicly available dataset. In this Shared Task, we bridge this gap by sharing practice item content and characteristics from a high-stakes medical exam called the United States Medical Licensing Examination® (USMLE®) for the exploration of two topics: predicting item difficulty (Track 1) and item response time (Track 2) basured in seconds.\n",
    "\n",
    "reference : https://sig-edu.org/sharedtask/2024\n"
   ]
  },
  {
   "cell_type": "markdown",
   "id": "94a1d267-c0ce-405f-be82-da4a87ee8b80",
   "metadata": {},
   "source": [
    "### Data\n",
    "\n",
    "The data for the Shared Task consists of 667 previously used and now retired Multiple Choice Questions (MCQs) from USMLE Steps 1, 2 CK, and 3. The USMLE is a series of examinations (called Steps) to support medical licensure decisions in the United States that is developed by the National Board of Medical Examiners (NBME) and Federation of State Medical Boards (FSMB). An example practice item from the dataset is given in Table 1.\n",
    "\n",
    "Q\tA 65-year-old woman comes to the physician for a follow-up examination after blood pressure measurements were 175/105 mm Hg and 185/110 mm Hg 1 and 3 weeks ago, respectively. She has well-controlled type 2 diabetes mellitus. Her blood pressure now is 175/110 mm Hg. Physical examination shows no other abnormalities. Antihypertensive therapy is started, but her blood pressure remains elevated at her next visit 3 weeks later. Laboratory studies show increased plasma renin activity; the erythrocyte sedimentation rate and serum electrolytes are within the reference ranges. Angiography shows a high-grade stenosis of the proximal right renal artery; the left renal artery appears normal. Which of the following is the most likely diagnosis?\n",
    "(A)\tAtherosclerosis\n",
    "(B)\tCongenital renal artery hypoplasia\n",
    "(C)\tFibromuscular dysplasia\n",
    "(D)\tTakayasu arteritis\n",
    "(E)\tTemporal arteritis\n",
    "Table 1: An example of a practice item from the USMLE Step 1 Sample Test Questions at usmle.org\n",
    "\n",
    "The part describing the case is referred to as stem, the correct answer is referred to as key, and the incorrect answer options are known as distractors. All items are MCQs that test medical knowledge and were written by experienced subject matter experts following a set of guidelines, stipulating adherence to a standard structure. These guidelines require avoidance of “window dressing” (extraneous material not needed to answer the item), “red herrings” (information designed to mislead the test-taker), and grammatical cues (e.g., correct answers that are longer or more specific than the other options). The goal of standardizing items in this manner is to produce items that vary in their difficulty and discriminating power due only to differences in the medical content they assess.\n",
    "\n",
    "The items were administered within a standard nine-hour exam. For this shared task, the item characteristic data was derived from first-time examinees from accredited US and Canadian medical schools.\n",
    "\n",
    "Each item is tagged with the following item characteristics:\n",
    "\n",
    "<b> Item difficulty: </b> A measure of item difficulty where higher values indicate more difficult items.\n",
    "\n",
    "<b> Time intensity: </b> arithmetic mean response time, measured in seconds, across all examinees who attempted a given item in a live exam. This includes all time spent on the item from the moment it is presented on the screen until the examinee moves to the next item, as well as any revisits.\n",
    "\n",
    "The data is structured as follows:\n",
    "\n",
    "ItemNum<\\t>ItemStem_Text<\\t>Answer__A<\\t>Answer__B<\\t>Answer__C<\\t>Answer__D<\\t>Answer__E<\\t>Answer__F<\\t>Answer__G<\\t>Answer__H<\\t>Answer__I<\\t>Answer__J<\\t>Answer_Key<\\t>Answer_Text<\\t>ItemType<\\t>EXAM<\\t>Difficulty<\\t>Response_Time\n",
    "ItemNum denotes the consecutive number of the item in the dataset (e.g., 1,2,3,4,5, etc).\n",
    "\n",
    "<b> **ItemStem_Text** </b> contains the text data for the item stem (the part of the item describing the clinical case).\n",
    "\n",
    "<b> Answer__A </b> contains the text for response option A\n",
    "\n",
    "<b> Answer__B </b> contains the text for response option B\n",
    "\n",
    "<b> Answer__C </b> contains the text for response option C.\n",
    "\n",
    "(…)\n",
    "\n",
    "<b> Answer__J </b> contains the text for response option J. For items that have fewer than J response options, the remaining columns are left blank. For example, if an item contains response options A to E, the fields for columns F to J are left blank for that item.\n",
    "\n",
    "<b> Answer__Key </b> contains the letter of the correct answer for that item.\n",
    "\n",
    "<b> Answer_Text </b> contains the text of the correct response for the item.\n",
    "\n",
    "<b> ItemType </b> denotes whether the item contained an image (e.g., an x-ray image, picture of a skin lesion, etc.) or not. The value “Text” denotes text-only items that do not contain images and the value “PIX” denotes items that contain an image. Note that the images are not part of the dataset.\n",
    "\n",
    "<b> EXAM </b> denotes the Step of the USMLE exam the item belongs to (Step 1, Step 2, or Step 3). For more information on the Steps of the USMLE see https://www.usmle.org/step-exams. <br>\n",
    "\n",
    "<b> Difficulty </b> contains the item difficulty measure. Higher values indicate more difficult items. <br>\n",
    "\n",
    "<b> Response_Time </b> contains the mean response time for the item measured in seconds. <br>\n",
    "\n",
    "reference : https://sig-edu.org/sharedtask/2024"
   ]
  },
  {
   "cell_type": "markdown",
   "id": "36b52dec-4e07-458a-bf9e-c729bc2bbaa2",
   "metadata": {},
   "source": [
    "## Baseline:"
   ]
  },
  {
   "cell_type": "markdown",
   "id": "eb1a3394-1184-4e93-a759-42f407a05cf3",
   "metadata": {},
   "source": [
    "#### 1. Data Cleaning / Preprocessing / Analysis"
   ]
  },
  {
   "cell_type": "code",
   "execution_count": 1,
   "id": "09790be7-0768-43fd-bd22-695ad89ac5c8",
   "metadata": {},
   "outputs": [],
   "source": [
    "# Import libraries/frameworks\n",
    "import pandas as pd\n",
    "import numpy as np\n",
    "from sklearn.model_selection import train_test_split\n",
    "from sentence_transformers import SentenceTransformer\n",
    "from sklearn.metrics import mean_squared_error\n",
    "from tqdm import tqdm\n",
    "import tensorflow as tf\n",
    "from tensorflow.keras import layers\n",
    "from tensorflow import keras"
   ]
  },
  {
   "cell_type": "code",
   "execution_count": 2,
   "id": "ef402087-5617-4a94-99c9-f34e1095ef14",
   "metadata": {},
   "outputs": [
    {
     "data": {
      "text/html": [
       "<div>\n",
       "<style scoped>\n",
       "    .dataframe tbody tr th:only-of-type {\n",
       "        vertical-align: middle;\n",
       "    }\n",
       "\n",
       "    .dataframe tbody tr th {\n",
       "        vertical-align: top;\n",
       "    }\n",
       "\n",
       "    .dataframe thead th {\n",
       "        text-align: right;\n",
       "    }\n",
       "</style>\n",
       "<table border=\"1\" class=\"dataframe\">\n",
       "  <thead>\n",
       "    <tr style=\"text-align: right;\">\n",
       "      <th></th>\n",
       "      <th>ItemNum</th>\n",
       "      <th>ItemStem_Text</th>\n",
       "      <th>Answer__A</th>\n",
       "      <th>Answer__B</th>\n",
       "      <th>Answer__C</th>\n",
       "      <th>Answer__D</th>\n",
       "      <th>Answer__E</th>\n",
       "      <th>Answer__F</th>\n",
       "      <th>Answer__G</th>\n",
       "      <th>Answer__H</th>\n",
       "      <th>Answer__I</th>\n",
       "      <th>Answer__J</th>\n",
       "      <th>Answer_Key</th>\n",
       "      <th>Answer_Text</th>\n",
       "      <th>ItemType</th>\n",
       "      <th>EXAM</th>\n",
       "      <th>Difficulty</th>\n",
       "      <th>Response_Time</th>\n",
       "    </tr>\n",
       "  </thead>\n",
       "  <tbody>\n",
       "    <tr>\n",
       "      <th>0</th>\n",
       "      <td>91</td>\n",
       "      <td>Over 1 year, a study is conducted to assess th...</td>\n",
       "      <td>Case-control study</td>\n",
       "      <td>Crossover study</td>\n",
       "      <td>Open-labeled clinical trial</td>\n",
       "      <td>Randomized clinical trial</td>\n",
       "      <td>Single-blind, randomized, controlled trial</td>\n",
       "      <td>NaN</td>\n",
       "      <td>NaN</td>\n",
       "      <td>NaN</td>\n",
       "      <td>NaN</td>\n",
       "      <td>NaN</td>\n",
       "      <td>C</td>\n",
       "      <td>Open-labeled clinical trial</td>\n",
       "      <td>Text</td>\n",
       "      <td>STEP 1</td>\n",
       "      <td>0.86</td>\n",
       "      <td>111.21</td>\n",
       "    </tr>\n",
       "    <tr>\n",
       "      <th>1</th>\n",
       "      <td>288</td>\n",
       "      <td>A previously healthy 52-year-old woman comes t...</td>\n",
       "      <td>Calcitriol production by activated macrophages</td>\n",
       "      <td>Local resorption of bone by metastases</td>\n",
       "      <td>Parathyroid hormone-related peptide secretion</td>\n",
       "      <td>Secretion of parathyroid hormone</td>\n",
       "      <td>Secretion of thyroid-stimulating hormone</td>\n",
       "      <td>NaN</td>\n",
       "      <td>NaN</td>\n",
       "      <td>NaN</td>\n",
       "      <td>NaN</td>\n",
       "      <td>NaN</td>\n",
       "      <td>A</td>\n",
       "      <td>Calcitriol production by activated macrophages</td>\n",
       "      <td>Text</td>\n",
       "      <td>STEP 1</td>\n",
       "      <td>0.44</td>\n",
       "      <td>83.94</td>\n",
       "    </tr>\n",
       "    <tr>\n",
       "      <th>2</th>\n",
       "      <td>160</td>\n",
       "      <td>A 42-year-old woman is brought to the emergenc...</td>\n",
       "      <td>CT scan of the abdomen</td>\n",
       "      <td>CT scan of the chest</td>\n",
       "      <td>Thoracoscopy</td>\n",
       "      <td>Laparotomy</td>\n",
       "      <td>Thoracotomy</td>\n",
       "      <td>NaN</td>\n",
       "      <td>NaN</td>\n",
       "      <td>NaN</td>\n",
       "      <td>NaN</td>\n",
       "      <td>NaN</td>\n",
       "      <td>D</td>\n",
       "      <td>Laparotomy</td>\n",
       "      <td>Text</td>\n",
       "      <td>STEP 2</td>\n",
       "      <td>0.64</td>\n",
       "      <td>87.82</td>\n",
       "    </tr>\n",
       "  </tbody>\n",
       "</table>\n",
       "</div>"
      ],
      "text/plain": [
       "   ItemNum                                      ItemStem_Text  \\\n",
       "0       91  Over 1 year, a study is conducted to assess th...   \n",
       "1      288  A previously healthy 52-year-old woman comes t...   \n",
       "2      160  A 42-year-old woman is brought to the emergenc...   \n",
       "\n",
       "                                        Answer__A  \\\n",
       "0                              Case-control study   \n",
       "1  Calcitriol production by activated macrophages   \n",
       "2                          CT scan of the abdomen   \n",
       "\n",
       "                                Answer__B  \\\n",
       "0                         Crossover study   \n",
       "1  Local resorption of bone by metastases   \n",
       "2                    CT scan of the chest   \n",
       "\n",
       "                                       Answer__C  \\\n",
       "0                    Open-labeled clinical trial   \n",
       "1  Parathyroid hormone-related peptide secretion   \n",
       "2                                   Thoracoscopy   \n",
       "\n",
       "                          Answer__D  \\\n",
       "0         Randomized clinical trial   \n",
       "1  Secretion of parathyroid hormone   \n",
       "2                        Laparotomy   \n",
       "\n",
       "                                    Answer__E Answer__F Answer__G Answer__H  \\\n",
       "0  Single-blind, randomized, controlled trial       NaN       NaN       NaN   \n",
       "1    Secretion of thyroid-stimulating hormone       NaN       NaN       NaN   \n",
       "2                                 Thoracotomy       NaN       NaN       NaN   \n",
       "\n",
       "  Answer__I Answer__J Answer_Key  \\\n",
       "0       NaN       NaN          C   \n",
       "1       NaN       NaN          A   \n",
       "2       NaN       NaN          D   \n",
       "\n",
       "                                      Answer_Text ItemType    EXAM  \\\n",
       "0                     Open-labeled clinical trial     Text  STEP 1   \n",
       "1  Calcitriol production by activated macrophages     Text  STEP 1   \n",
       "2                                      Laparotomy     Text  STEP 2   \n",
       "\n",
       "   Difficulty  Response_Time  \n",
       "0        0.86         111.21  \n",
       "1        0.44          83.94  \n",
       "2        0.64          87.82  "
      ]
     },
     "execution_count": 2,
     "metadata": {},
     "output_type": "execute_result"
    }
   ],
   "source": [
    "df = pd.read_excel( 'train_final.xlsx' )\n",
    "test_data = pd.read_excel( 'test_final.xlsx' )\n",
    "test_target = pd.read_excel( 'gold_final.xlsx' )\n",
    "test_data = pd.merge( test_data, test_target, on = 'ItemNum' ) \n",
    "test_data.fillna( 0, inplace=True) \n",
    "\n",
    "df.head(3)"
   ]
  },
  {
   "cell_type": "markdown",
   "id": "6a3b8443-8c53-4c8f-839c-677789988f44",
   "metadata": {},
   "source": [
    "As there are lot of records with null values, let's fill them up with 0"
   ]
  },
  {
   "cell_type": "code",
   "execution_count": 3,
   "id": "55cda5ae-0ef1-4df6-bc98-76847211ef49",
   "metadata": {},
   "outputs": [
    {
     "data": {
      "text/html": [
       "<div>\n",
       "<style scoped>\n",
       "    .dataframe tbody tr th:only-of-type {\n",
       "        vertical-align: middle;\n",
       "    }\n",
       "\n",
       "    .dataframe tbody tr th {\n",
       "        vertical-align: top;\n",
       "    }\n",
       "\n",
       "    .dataframe thead th {\n",
       "        text-align: right;\n",
       "    }\n",
       "</style>\n",
       "<table border=\"1\" class=\"dataframe\">\n",
       "  <thead>\n",
       "    <tr style=\"text-align: right;\">\n",
       "      <th></th>\n",
       "      <th>ItemNum</th>\n",
       "      <th>ItemStem_Text</th>\n",
       "      <th>Answer__A</th>\n",
       "      <th>Answer__B</th>\n",
       "      <th>Answer__C</th>\n",
       "      <th>Answer__D</th>\n",
       "      <th>Answer__E</th>\n",
       "      <th>Answer__F</th>\n",
       "      <th>Answer__G</th>\n",
       "      <th>Answer__H</th>\n",
       "      <th>Answer__I</th>\n",
       "      <th>Answer__J</th>\n",
       "      <th>Answer_Key</th>\n",
       "      <th>Answer_Text</th>\n",
       "      <th>ItemType</th>\n",
       "      <th>EXAM</th>\n",
       "      <th>Difficulty</th>\n",
       "      <th>Response_Time</th>\n",
       "    </tr>\n",
       "  </thead>\n",
       "  <tbody>\n",
       "    <tr>\n",
       "      <th>0</th>\n",
       "      <td>91</td>\n",
       "      <td>Over 1 year, a study is conducted to assess th...</td>\n",
       "      <td>Case-control study</td>\n",
       "      <td>Crossover study</td>\n",
       "      <td>Open-labeled clinical trial</td>\n",
       "      <td>Randomized clinical trial</td>\n",
       "      <td>Single-blind, randomized, controlled trial</td>\n",
       "      <td>0</td>\n",
       "      <td>0</td>\n",
       "      <td>0</td>\n",
       "      <td>0</td>\n",
       "      <td>0</td>\n",
       "      <td>C</td>\n",
       "      <td>Open-labeled clinical trial</td>\n",
       "      <td>Text</td>\n",
       "      <td>STEP 1</td>\n",
       "      <td>0.86</td>\n",
       "      <td>111.21</td>\n",
       "    </tr>\n",
       "    <tr>\n",
       "      <th>1</th>\n",
       "      <td>288</td>\n",
       "      <td>A previously healthy 52-year-old woman comes t...</td>\n",
       "      <td>Calcitriol production by activated macrophages</td>\n",
       "      <td>Local resorption of bone by metastases</td>\n",
       "      <td>Parathyroid hormone-related peptide secretion</td>\n",
       "      <td>Secretion of parathyroid hormone</td>\n",
       "      <td>Secretion of thyroid-stimulating hormone</td>\n",
       "      <td>0</td>\n",
       "      <td>0</td>\n",
       "      <td>0</td>\n",
       "      <td>0</td>\n",
       "      <td>0</td>\n",
       "      <td>A</td>\n",
       "      <td>Calcitriol production by activated macrophages</td>\n",
       "      <td>Text</td>\n",
       "      <td>STEP 1</td>\n",
       "      <td>0.44</td>\n",
       "      <td>83.94</td>\n",
       "    </tr>\n",
       "  </tbody>\n",
       "</table>\n",
       "</div>"
      ],
      "text/plain": [
       "   ItemNum                                      ItemStem_Text  \\\n",
       "0       91  Over 1 year, a study is conducted to assess th...   \n",
       "1      288  A previously healthy 52-year-old woman comes t...   \n",
       "\n",
       "                                        Answer__A  \\\n",
       "0                              Case-control study   \n",
       "1  Calcitriol production by activated macrophages   \n",
       "\n",
       "                                Answer__B  \\\n",
       "0                         Crossover study   \n",
       "1  Local resorption of bone by metastases   \n",
       "\n",
       "                                       Answer__C  \\\n",
       "0                    Open-labeled clinical trial   \n",
       "1  Parathyroid hormone-related peptide secretion   \n",
       "\n",
       "                          Answer__D  \\\n",
       "0         Randomized clinical trial   \n",
       "1  Secretion of parathyroid hormone   \n",
       "\n",
       "                                    Answer__E Answer__F Answer__G Answer__H  \\\n",
       "0  Single-blind, randomized, controlled trial         0         0         0   \n",
       "1    Secretion of thyroid-stimulating hormone         0         0         0   \n",
       "\n",
       "  Answer__I Answer__J Answer_Key  \\\n",
       "0         0         0          C   \n",
       "1         0         0          A   \n",
       "\n",
       "                                      Answer_Text ItemType    EXAM  \\\n",
       "0                     Open-labeled clinical trial     Text  STEP 1   \n",
       "1  Calcitriol production by activated macrophages     Text  STEP 1   \n",
       "\n",
       "   Difficulty  Response_Time  \n",
       "0        0.86         111.21  \n",
       "1        0.44          83.94  "
      ]
     },
     "execution_count": 3,
     "metadata": {},
     "output_type": "execute_result"
    }
   ],
   "source": [
    "df.fillna(0, inplace=True)\n",
    "df.head(2)"
   ]
  },
  {
   "cell_type": "code",
   "execution_count": 4,
   "id": "701f869e-e389-4e7f-b00c-7f27704d6e9f",
   "metadata": {},
   "outputs": [
    {
     "data": {
      "text/plain": [
       "Index(['ItemNum', 'ItemStem_Text', 'Answer__A', 'Answer__B', 'Answer__C',\n",
       "       'Answer__D', 'Answer__E', 'Answer__F', 'Answer__G', 'Answer__H',\n",
       "       'Answer__I', 'Answer__J', 'Answer_Key', 'Answer_Text', 'ItemType',\n",
       "       'EXAM', 'Difficulty', 'Response_Time'],\n",
       "      dtype='object')"
      ]
     },
     "execution_count": 4,
     "metadata": {},
     "output_type": "execute_result"
    }
   ],
   "source": [
    "cols = df.columns\n",
    "cols"
   ]
  },
  {
   "cell_type": "code",
   "execution_count": 5,
   "id": "94adda7d-31b7-4ed9-96b9-4e619210cfd9",
   "metadata": {},
   "outputs": [
    {
     "data": {
      "text/plain": [
       "ItemType\n",
       "Text    416\n",
       "PIX      50\n",
       "Name: count, dtype: int64"
      ]
     },
     "execution_count": 5,
     "metadata": {},
     "output_type": "execute_result"
    }
   ],
   "source": [
    "df.ItemType.value_counts()"
   ]
  },
  {
   "cell_type": "code",
   "execution_count": 6,
   "id": "cd9dff66-e657-4d54-93e9-b5b5cf80e37f",
   "metadata": {},
   "outputs": [
    {
     "data": {
      "text/plain": [
       "EXAM\n",
       "STEP 1    190\n",
       "STEP 2    154\n",
       "STEP 3    122\n",
       "Name: count, dtype: int64"
      ]
     },
     "execution_count": 6,
     "metadata": {},
     "output_type": "execute_result"
    }
   ],
   "source": [
    "df.EXAM.value_counts()"
   ]
  },
  {
   "cell_type": "markdown",
   "id": "9e30294d-3939-42e2-bc9c-4c3e6012e217",
   "metadata": {},
   "source": [
    "As we are trying to build a model that determines the difficulty as well as response time specifically based on the semantics, let us just restrict our independent features to the ItemStem_Text, the multiple choices available and the answer. "
   ]
  },
  {
   "cell_type": "code",
   "execution_count": 7,
   "id": "cebdb792-1fb5-4bfd-866d-8055c671b497",
   "metadata": {},
   "outputs": [],
   "source": [
    "X_cols = ['ItemStem_Text', 'Answer__A', 'Answer__B', 'Answer__C', 'Answer__D', 'Answer__E', 'Answer__F', 'Answer__G', 'Answer__H', \\\n",
    "           'Answer__I', 'Answer__J', 'Answer_Text']\n",
    "y_1 = df['Difficulty']\n",
    "y_2 = df['Response_Time'] "
   ]
  },
  {
   "cell_type": "code",
   "execution_count": 8,
   "id": "06f173f6-3a0d-4bb3-9fc6-1b1c59683e75",
   "metadata": {},
   "outputs": [
    {
     "data": {
      "text/html": [
       "<div>\n",
       "<style scoped>\n",
       "    .dataframe tbody tr th:only-of-type {\n",
       "        vertical-align: middle;\n",
       "    }\n",
       "\n",
       "    .dataframe tbody tr th {\n",
       "        vertical-align: top;\n",
       "    }\n",
       "\n",
       "    .dataframe thead th {\n",
       "        text-align: right;\n",
       "    }\n",
       "</style>\n",
       "<table border=\"1\" class=\"dataframe\">\n",
       "  <thead>\n",
       "    <tr style=\"text-align: right;\">\n",
       "      <th></th>\n",
       "      <th>ItemNum</th>\n",
       "      <th>ItemStem_Text</th>\n",
       "      <th>Answer__A</th>\n",
       "      <th>Answer__B</th>\n",
       "      <th>Answer__C</th>\n",
       "      <th>Answer__D</th>\n",
       "      <th>Answer__E</th>\n",
       "      <th>Answer__F</th>\n",
       "      <th>Answer__G</th>\n",
       "      <th>Answer__H</th>\n",
       "      <th>Answer__I</th>\n",
       "      <th>Answer__J</th>\n",
       "      <th>Answer_Key</th>\n",
       "      <th>Answer_Text</th>\n",
       "      <th>ItemType</th>\n",
       "      <th>EXAM</th>\n",
       "      <th>Difficulty</th>\n",
       "      <th>Response_Time</th>\n",
       "    </tr>\n",
       "  </thead>\n",
       "  <tbody>\n",
       "    <tr>\n",
       "      <th>441</th>\n",
       "      <td>606</td>\n",
       "      <td>An 11-year-old girl is brought to the emergenc...</td>\n",
       "      <td>1</td>\n",
       "      <td>2</td>\n",
       "      <td>3</td>\n",
       "      <td>4</td>\n",
       "      <td>5</td>\n",
       "      <td>0</td>\n",
       "      <td>0</td>\n",
       "      <td>0</td>\n",
       "      <td>0</td>\n",
       "      <td>0</td>\n",
       "      <td>B</td>\n",
       "      <td>2</td>\n",
       "      <td>Text</td>\n",
       "      <td>STEP 1</td>\n",
       "      <td>0.42</td>\n",
       "      <td>63.21</td>\n",
       "    </tr>\n",
       "  </tbody>\n",
       "</table>\n",
       "</div>"
      ],
      "text/plain": [
       "     ItemNum                                      ItemStem_Text Answer__A  \\\n",
       "441      606  An 11-year-old girl is brought to the emergenc...         1   \n",
       "\n",
       "    Answer__B Answer__C Answer__D Answer__E Answer__F Answer__G Answer__H  \\\n",
       "441         2         3         4         5         0         0         0   \n",
       "\n",
       "    Answer__I Answer__J Answer_Key Answer_Text ItemType    EXAM  Difficulty  \\\n",
       "441         0         0          B           2     Text  STEP 1        0.42   \n",
       "\n",
       "     Response_Time  \n",
       "441          63.21  "
      ]
     },
     "execution_count": 8,
     "metadata": {},
     "output_type": "execute_result"
    }
   ],
   "source": [
    "df[df['ItemNum'] == 606 ]"
   ]
  },
  {
   "cell_type": "markdown",
   "id": "0ebc9e0d-762c-44d1-92bd-eb1913478ed4",
   "metadata": {},
   "source": [
    "There are some rows where the answer is in float or integer datatype, so , we will have to convert it to string so as to make it compatible with the embedding generator model."
   ]
  },
  {
   "cell_type": "markdown",
   "id": "8fb378f2-1830-4363-af5d-bcaafe03ed8e",
   "metadata": {},
   "source": [
    "#### 2. Dividing data into train and validation set"
   ]
  },
  {
   "cell_type": "code",
   "execution_count": 9,
   "id": "41ac8b65-a11f-472b-a9a3-80681cfe85fa",
   "metadata": {},
   "outputs": [],
   "source": [
    "#X_train1, X_val1, y_train1, y_val1 = train_test_split( df[X_cols], y_1, test_size=0.1, random_state=1 )\n",
    "#X_train2, X_val2, y_train2, y_val2 = train_test_split( df[X_cols], y_2, test_size=0.1, random_state=1 )\n",
    "\n",
    "X_train = df[X_cols].astype('str')\n",
    "X_test = test_data[X_cols].astype('str')\n",
    "y_train1, y_train2 = y_1, y_2\n",
    "y_test1, y_test2 = test_data[ 'Difficulty' ], test_data[ 'Response_Time' ]"
   ]
  },
  {
   "cell_type": "code",
   "execution_count": 10,
   "id": "b5c01de6-e783-4254-92a6-79ea1a4b2dee",
   "metadata": {},
   "outputs": [
    {
     "data": {
      "text/plain": [
       "((466, 12), (466,), (466,), (201, 12), (201,), (201,))"
      ]
     },
     "execution_count": 10,
     "metadata": {},
     "output_type": "execute_result"
    }
   ],
   "source": [
    "X_train.shape, y_train1.shape, y_train2.shape, X_test.shape, y_test1.shape, y_test2.shape"
   ]
  },
  {
   "cell_type": "markdown",
   "id": "8512428f-01f7-48b0-8eb4-48751602d8fe",
   "metadata": {},
   "source": [
    "#### 3. Vectorizing input"
   ]
  },
  {
   "cell_type": "code",
   "execution_count": 11,
   "id": "bb69e472-2b08-4d1e-b9e2-94bc0dda25e1",
   "metadata": {},
   "outputs": [
    {
     "data": {
      "text/plain": [
       "768"
      ]
     },
     "execution_count": 11,
     "metadata": {},
     "output_type": "execute_result"
    }
   ],
   "source": [
    "# reference: https://huggingface.co/pritamdeka/S-PubMedBert-MS-MARCO\n",
    "model = SentenceTransformer('pritamdeka/S-PubMedBert-MS-MARCO')\n",
    "# example\n",
    "len(model.encode( 'this is it' ))"
   ]
  },
  {
   "cell_type": "code",
   "execution_count": 12,
   "id": "046d14de-4a37-4321-8b04-dd3e89c51b77",
   "metadata": {},
   "outputs": [],
   "source": [
    "def vectorizer( data ):\n",
    "    data_vec = []\n",
    "    for index, row in tqdm(data.iterrows()):\n",
    "        ItemStem_Text_vec = model.encode( row['ItemStem_Text'] )\n",
    "        cnt = 0\n",
    "        temp_vec = np.zeros(768)\n",
    "        for option in [ 'A', 'B', 'C', 'D', 'E', 'F', 'G', 'H', 'I', 'J' ] : \n",
    "            if row[ 'Answer__' + option ] != 0 : \n",
    "                cnt += 1\n",
    "                try: \n",
    "                    temp_vec += model.encode( row[ 'Answer__' + option ] )\n",
    "                except: \n",
    "                    print(f\"Error in {row[ 'Answer__' + option ]}\")\n",
    "                    cnt-=1\n",
    "        temp_vec /= cnt\n",
    "        Answer_vec = model.encode( row[ 'Answer_Text' ] )\n",
    "    \n",
    "        final_vec = ItemStem_Text_vec + temp_vec + Answer_vec \n",
    "        data_vec.append(final_vec)\n",
    "\n",
    "    return np.array(data_vec)"
   ]
  },
  {
   "cell_type": "code",
   "execution_count": 13,
   "id": "0ecb989c-f2e8-4582-8a64-eaa96121e330",
   "metadata": {
    "scrolled": true
   },
   "outputs": [
    {
     "name": "stderr",
     "output_type": "stream",
     "text": [
      "466it [02:01,  3.84it/s]\n",
      "201it [00:53,  3.73it/s]\n"
     ]
    },
    {
     "data": {
      "text/plain": [
       "((466, 768), (201, 768))"
      ]
     },
     "execution_count": 13,
     "metadata": {},
     "output_type": "execute_result"
    }
   ],
   "source": [
    "X_train_1_vec, X_test_1_vec =  vectorizer(X_train), vectorizer(X_test)\n",
    "X_train_1_vec.shape, X_test_1_vec.shape"
   ]
  },
  {
   "cell_type": "markdown",
   "id": "9324b6d5-0818-4e95-9d83-330592e143f9",
   "metadata": {},
   "source": [
    "#### 4. Neural network - baseline model - predicting difficulty"
   ]
  },
  {
   "cell_type": "code",
   "execution_count": 14,
   "id": "5e71fdcf-914a-4387-9e54-147ef2ab9b67",
   "metadata": {},
   "outputs": [
    {
     "name": "stdout",
     "output_type": "stream",
     "text": [
      "Epoch 1/10\n",
      "14/14 [==============================] - 2s 2ms/step - loss: 0.3524 - root_mean_squared_error: 0.5936\n",
      "Epoch 2/10\n",
      "14/14 [==============================] - 0s 1ms/step - loss: 0.3137 - root_mean_squared_error: 0.5601\n",
      "Epoch 3/10\n",
      "14/14 [==============================] - 0s 1ms/step - loss: 0.2368 - root_mean_squared_error: 0.4866\n",
      "Epoch 4/10\n",
      "14/14 [==============================] - 0s 1ms/step - loss: 0.2045 - root_mean_squared_error: 0.4522\n",
      "Epoch 5/10\n",
      "14/14 [==============================] - 0s 1ms/step - loss: 0.2009 - root_mean_squared_error: 0.4482\n",
      "Epoch 6/10\n",
      "14/14 [==============================] - 0s 2ms/step - loss: 0.2323 - root_mean_squared_error: 0.4820\n",
      "Epoch 7/10\n",
      "14/14 [==============================] - 0s 2ms/step - loss: 0.1756 - root_mean_squared_error: 0.4191\n",
      "Epoch 8/10\n",
      "14/14 [==============================] - 0s 2ms/step - loss: 0.1441 - root_mean_squared_error: 0.3796\n",
      "Epoch 9/10\n",
      "14/14 [==============================] - 0s 2ms/step - loss: 0.1355 - root_mean_squared_error: 0.3680\n",
      "Epoch 10/10\n",
      "14/14 [==============================] - 0s 2ms/step - loss: 0.1413 - root_mean_squared_error: 0.3758\n",
      "Model: \"sequential\"\n",
      "_________________________________________________________________\n",
      " Layer (type)                Output Shape              Param #   \n",
      "=================================================================\n",
      " dense (Dense)               (None, 1)                 769       \n",
      "                                                                 \n",
      "=================================================================\n",
      "Total params: 769 (3.00 KB)\n",
      "Trainable params: 769 (3.00 KB)\n",
      "Non-trainable params: 0 (0.00 Byte)\n",
      "_________________________________________________________________\n"
     ]
    }
   ],
   "source": [
    "tf.random.set_seed(1)\n",
    "\n",
    "dl_model_1 = tf.keras.Sequential([\n",
    "      tf.keras.layers.InputLayer(input_shape=(768,)),\n",
    "      layers.Dense(1)\n",
    "  ])\n",
    "\n",
    "dl_model_1.compile( optimizer=tf.keras.optimizers.Adam(0.001),\n",
    "                  loss = tf.keras.losses.MeanSquaredError(),\n",
    "                  metrics=[tf.keras.metrics.RootMeanSquaredError()])\n",
    "\n",
    "dl_model_1.fit( X_train_1_vec, y_train1, epochs = 10 )\n",
    "\n",
    "dl_model_1.summary()"
   ]
  },
  {
   "cell_type": "code",
   "execution_count": 15,
   "id": "bb12c429-3a4d-4017-8d6f-d5e1e36108cd",
   "metadata": {},
   "outputs": [
    {
     "name": "stdout",
     "output_type": "stream",
     "text": [
      "2/2 [==============================] - 0s 6ms/step\n"
     ]
    },
    {
     "data": {
      "text/plain": [
       "0.42088477185159245"
      ]
     },
     "execution_count": 15,
     "metadata": {},
     "output_type": "execute_result"
    }
   ],
   "source": [
    "y1_predict = dl_model_1.predict(X_test_1_vec)\n",
    "mean_squared_error( y_test1, y1_predict, squared=False ) "
   ]
  },
  {
   "cell_type": "markdown",
   "id": "fd3674ab-18d6-4087-ae3e-14558b71c8a3",
   "metadata": {},
   "source": [
    "#### 5. Neural network - baseline model - predicting response time"
   ]
  },
  {
   "cell_type": "code",
   "execution_count": 16,
   "id": "cd9a0aaa-5dd7-45d1-9394-e060b41d1417",
   "metadata": {},
   "outputs": [
    {
     "name": "stdout",
     "output_type": "stream",
     "text": [
      "Epoch 1/25\n",
      "14/14 [==============================] - 0s 2ms/step - loss: 7610.7280 - root_mean_squared_error: 87.2395\n",
      "Epoch 2/25\n",
      "14/14 [==============================] - 0s 2ms/step - loss: 6419.9683 - root_mean_squared_error: 80.1247\n",
      "Epoch 3/25\n",
      "14/14 [==============================] - 0s 2ms/step - loss: 5367.9526 - root_mean_squared_error: 73.2663\n",
      "Epoch 4/25\n",
      "14/14 [==============================] - 0s 2ms/step - loss: 4469.3042 - root_mean_squared_error: 66.8529\n",
      "Epoch 5/25\n",
      "14/14 [==============================] - 0s 2ms/step - loss: 3721.1514 - root_mean_squared_error: 61.0012\n",
      "Epoch 6/25\n",
      "14/14 [==============================] - 0s 2ms/step - loss: 3094.3862 - root_mean_squared_error: 55.6272\n",
      "Epoch 7/25\n",
      "14/14 [==============================] - 0s 1ms/step - loss: 2586.8848 - root_mean_squared_error: 50.8614\n",
      "Epoch 8/25\n",
      "14/14 [==============================] - 0s 1ms/step - loss: 2178.1841 - root_mean_squared_error: 46.6710\n",
      "Epoch 9/25\n",
      "14/14 [==============================] - 0s 2ms/step - loss: 1839.9700 - root_mean_squared_error: 42.8949\n",
      "Epoch 10/25\n",
      "14/14 [==============================] - 0s 2ms/step - loss: 1581.0526 - root_mean_squared_error: 39.7625\n",
      "Epoch 11/25\n",
      "14/14 [==============================] - 0s 1ms/step - loss: 1372.5276 - root_mean_squared_error: 37.0476\n",
      "Epoch 12/25\n",
      "14/14 [==============================] - 0s 2ms/step - loss: 1214.5822 - root_mean_squared_error: 34.8509\n",
      "Epoch 13/25\n",
      "14/14 [==============================] - 0s 2ms/step - loss: 1093.5734 - root_mean_squared_error: 33.0692\n",
      "Epoch 14/25\n",
      "14/14 [==============================] - 0s 2ms/step - loss: 1015.2993 - root_mean_squared_error: 31.8638\n",
      "Epoch 15/25\n",
      "14/14 [==============================] - 0s 2ms/step - loss: 954.1804 - root_mean_squared_error: 30.8898\n",
      "Epoch 16/25\n",
      "14/14 [==============================] - 0s 2ms/step - loss: 911.4395 - root_mean_squared_error: 30.1901\n",
      "Epoch 17/25\n",
      "14/14 [==============================] - 0s 1ms/step - loss: 877.7645 - root_mean_squared_error: 29.6271\n",
      "Epoch 18/25\n",
      "14/14 [==============================] - 0s 1ms/step - loss: 851.2405 - root_mean_squared_error: 29.1760\n",
      "Epoch 19/25\n",
      "14/14 [==============================] - 0s 1ms/step - loss: 836.0322 - root_mean_squared_error: 28.9142\n",
      "Epoch 20/25\n",
      "14/14 [==============================] - 0s 1ms/step - loss: 826.7960 - root_mean_squared_error: 28.7541\n",
      "Epoch 21/25\n",
      "14/14 [==============================] - 0s 1ms/step - loss: 823.1068 - root_mean_squared_error: 28.6898\n",
      "Epoch 22/25\n",
      "14/14 [==============================] - 0s 2ms/step - loss: 821.1317 - root_mean_squared_error: 28.6554\n",
      "Epoch 23/25\n",
      "14/14 [==============================] - 0s 2ms/step - loss: 818.9531 - root_mean_squared_error: 28.6174\n",
      "Epoch 24/25\n",
      "14/14 [==============================] - 0s 1ms/step - loss: 817.0512 - root_mean_squared_error: 28.5841\n",
      "Epoch 25/25\n",
      "14/14 [==============================] - 0s 1ms/step - loss: 815.3559 - root_mean_squared_error: 28.5544\n",
      "Model: \"sequential_1\"\n",
      "_________________________________________________________________\n",
      " Layer (type)                Output Shape              Param #   \n",
      "=================================================================\n",
      " dense_1 (Dense)             (None, 1)                 769       \n",
      "                                                                 \n",
      "=================================================================\n",
      "Total params: 769 (3.00 KB)\n",
      "Trainable params: 769 (3.00 KB)\n",
      "Non-trainable params: 0 (0.00 Byte)\n",
      "_________________________________________________________________\n"
     ]
    }
   ],
   "source": [
    "dl_model_2 = tf.keras.Sequential([\n",
    "      tf.keras.layers.InputLayer(input_shape=(768,)),\n",
    "      layers.Dense(1)\n",
    "  ])\n",
    "\n",
    "dl_model_2.compile( optimizer=tf.keras.optimizers.Adam(0.001),\n",
    "                  loss = tf.keras.losses.MeanSquaredError(),\n",
    "                  metrics=[tf.keras.metrics.RootMeanSquaredError()])\n",
    "\n",
    "dl_model_2.fit( X_train_1_vec, y_train2, epochs = 25 )\n",
    "\n",
    "dl_model_2.summary()"
   ]
  },
  {
   "cell_type": "code",
   "execution_count": 17,
   "id": "d7350699-21ce-4b02-a529-3cbabb50718f",
   "metadata": {},
   "outputs": [
    {
     "name": "stdout",
     "output_type": "stream",
     "text": [
      "2/2 [==============================] - 0s 2ms/step\n"
     ]
    },
    {
     "data": {
      "text/plain": [
       "24.236397691350845"
      ]
     },
     "execution_count": 17,
     "metadata": {},
     "output_type": "execute_result"
    }
   ],
   "source": [
    "y2_predict = dl_model_2.predict(X_test_1_vec)\n",
    "mean_squared_error( y_test2, y2_predict, squared=False ) "
   ]
  },
  {
   "cell_type": "markdown",
   "id": "4f49aa7d-0b11-44ea-b75d-34dbf6d19037",
   "metadata": {},
   "source": [
    "### 6. Classical ML Algorithms"
   ]
  },
  {
   "cell_type": "code",
   "execution_count": 14,
   "id": "457d150e-2924-4b39-a826-12bb647f5860",
   "metadata": {},
   "outputs": [],
   "source": [
    "from sklearn.linear_model import LinearRegression\n",
    "from sklearn.tree import DecisionTreeRegressor\n",
    "from sklearn.neighbors import KNeighborsRegressor\n",
    "from sklearn.ensemble import GradientBoostingRegressor\n",
    "from sklearn.model_selection import GridSearchCV\n",
    "import xgboost as xgb"
   ]
  },
  {
   "cell_type": "code",
   "execution_count": 17,
   "id": "62bba7c2-75af-4baa-9ced-278ce49e32f1",
   "metadata": {},
   "outputs": [],
   "source": [
    "def find_best_classical_model(X_train,X_test, y_train, y_test):\n",
    "    \n",
    "    # Model 1 : Linear Regression \n",
    "    model_1_lr = LinearRegression()\n",
    "    model_1_lr.fit(X_train, y_train)\n",
    "    #y_predicted_1 = model_1_lr.predict(X_valid)\n",
    "    #model_1_rmse = mean_squared_error( y_valid, y_predicted_1, squared=False ) \n",
    "    predicted_lr = model_1_lr.predict(X_test)\n",
    "    test_rmse_lr = mean_squared_error( y_test, predicted_lr, squared=False )\n",
    "    \n",
    "    # Model 2 : Decision Tree classifier\n",
    "    dtr = DecisionTreeRegressor(random_state=0)\n",
    "    param_dict_2 = { \"max_depth\": [3,5] }\n",
    "    model_2_dtr = GridSearchCV( dtr ,param_grid=param_dict_2, cv=3, refit = True)\n",
    "    model_2_dtr.fit(X_train,y_train)\n",
    "    #y_predicted_2 = model_2_dtr.predict(X_valid)\n",
    "    #model_2_rmse = mean_squared_error( y_valid, y_predicted_2, squared=False ) \n",
    "    predicted_dt = model_2_dtr.predict(X_test)\n",
    "    test_rmse_dt = mean_squared_error( y_test, predicted_dt, squared=False )\n",
    "\n",
    "    # Model 3 : KNN\n",
    "    knn = KNeighborsRegressor(weights=\"distance\", metric= \"minkowski\", p = 2)\n",
    "    param_dict_3 = { 'n_neighbors' : [3,5, 7] }\n",
    "    model_3_knn = GridSearchCV(knn,param_grid=param_dict_3, cv=3 )\n",
    "    model_3_knn.fit(X_train,y_train)\n",
    "    #y_predicted_3 = model_3_knn.predict(X_valid)\n",
    "    #model_3_rmse = mean_squared_error( y_valid, y_predicted_3, squared=False ) \n",
    "    predicted_knn = model_3_knn.predict(X_test)\n",
    "    test_rmse_knn = mean_squared_error( y_test, predicted_knn, squared=False )\n",
    "\n",
    "    # Model 4 : XGBoost\n",
    "    regressor=xgb.XGBRegressor(eval_metric='rmse')\n",
    "    param_dict_4 = {\"max_depth\": [3, 5], \"n_estimators\": [600, 700]}\n",
    "    search = GridSearchCV(regressor, param_dict_4, cv=5).fit(X_train, y_train)\n",
    "    regressor=xgb.XGBRegressor(n_estimators  = search.best_params_[\"n_estimators\"],\n",
    "                               max_depth     = search.best_params_[\"max_depth\"],\n",
    "                               eval_metric='rmse')\n",
    "    regressor.fit(X_train, y_train)\n",
    "    #y_predicted_4 = regressor.predict(X_valid)\n",
    "    #model_4_rmse = mean_squared_error( y_valid, y_predicted_4, squared=False )\n",
    "    predicted_xgb = regressor.predict(X_test)\n",
    "    test_rmse_xgb = mean_squared_error( y_test, predicted_xgb, squared=False )\n",
    "\n",
    "    # Model 5 : GBDT\n",
    "    gbdt_regressor = GradientBoostingRegressor(random_state=0)\n",
    "    param_dict_5 =  {\"max_depth\": [3,5], \"n_estimators\": [600, 700]}\n",
    "    model_5_gbdt = GridSearchCV(gbdt_regressor, param_grid=param_dict_5, cv=3, refit=True )\n",
    "    model_5_gbdt.fit(X_train,y_train)\n",
    "    #y_predicted_5 = model_5_gbdt.predict(X_valid)\n",
    "    #model_5_rmse = mean_squared_error( y_valid, y_predicted_5, squared=False )\n",
    "    predicted_gbdt = model_5_gbdt.predict(X_test)\n",
    "    test_rmse_dt = mean_squared_error( y_test, predicted_gbdt, squared=False )\n",
    "\n",
    "    model_names = [\"Linear Regression\",\"Decision Trees\",\"KNN\",\"XGBoost\",\"GBDT\"]\n",
    "    #rmse_scores = [ model_1_rmse, model_2_rmse, model_3_rmse, model_4_rmse, model_5_rmse ]\n",
    "    test_rmse = [ test_rmse_lr, test_rmse_dt, test_rmse_knn, test_rmse_xgb, test_rmse_dt ]\n",
    "    \n",
    "    return model_names, test_rmse"
   ]
  },
  {
   "cell_type": "code",
   "execution_count": 18,
   "id": "26288275-d295-462b-bcd9-bb6a0eb827a0",
   "metadata": {},
   "outputs": [],
   "source": [
    "%timeit\n",
    "model_names, test_rmse_task1 = find_best_classical_model(X_train_1_vec, X_test_1_vec, y_train1, y_test1)   \n",
    "model_names, test_rmse_task2 = find_best_classical_model(X_train_1_vec, X_test_1_vec, y_train2, y_test2)   "
   ]
  },
  {
   "cell_type": "code",
   "execution_count": 19,
   "id": "aa385edb-baf0-4cd7-8bcd-a4c7ca9f30f2",
   "metadata": {},
   "outputs": [
    {
     "name": "stdout",
     "output_type": "stream",
     "text": [
      "['Linear Regression', 'Decision Trees', 'KNN', 'XGBoost', 'GBDT']\n",
      "[0.6149357501461442, 0.32066804105765795, 0.3329348356026108, 0.31918916570115224, 0.32066804105765795]\n",
      "[49.58395313603062, 29.927324648493776, 29.727154503708476, 29.657868451852718, 29.927324648493776]\n"
     ]
    }
   ],
   "source": [
    "print(model_names)\n",
    "print(test_rmse_task1)\n",
    "print(test_rmse_task2)"
   ]
  },
  {
   "cell_type": "code",
   "execution_count": 25,
   "id": "0288dae3-fe0c-4925-bdb8-28c0b3dd4c32",
   "metadata": {},
   "outputs": [
    {
     "data": {
      "image/png": "[encoded data removed]",
      "text/plain": [
       "<Figure size 1500x1000 with 1 Axes>"
      ]
     },
     "metadata": {},
     "output_type": "display_data"
    }
   ],
   "source": [
    "def plot_models_score_barplot(difficulty_rmse, resp_time_rmse, model_names):\n",
    "    # Numbers of pairs of bars you want\n",
    "    N = len(model_names)\n",
    "    # Data on X-axis\n",
    "    # Specify the values of blue bars (height)\n",
    "    blue_bar = difficulty_rmse\n",
    "    # Specify the values of orange bars (height)\n",
    "    orange_bar = resp_time_rmse\n",
    "    # Position of bars on x-axis\n",
    "    ind = np.arange(N)\n",
    "    # Figure size\n",
    "    plt.figure(figsize=(15,10))\n",
    "    # Width of a bar \n",
    "    width = 0.2       \n",
    "    # Plotting\n",
    "    plt.bar(ind, blue_bar , width, label='Difficulty rmse')\n",
    "    #plt.bar(ind + width, orange_bar, width, label='Response time rmse')\n",
    "    plt.xlabel('Machine learning models', fontsize=13)\n",
    "    plt.ylabel('Scores', fontsize=13)\n",
    "    plt.title('Comparative study of Machine Learning Models', fontsize=14)\n",
    "    # xticks()\n",
    "    # First argument - A list of positions at which ticks should be placed\n",
    "    # Second argument -  A list of labels to place at the given locations\n",
    "    plt.xticks(ind + width / 2,model_names, fontsize=13)\n",
    "    # Finding the best position for legends and putting it\n",
    "    plt.legend(loc='best', fontsize=13)\n",
    "    plt.show()\n",
    "\n",
    "plot_models_score_barplot(difficulty_rmse, resp_time_rmse, model_names)"
   ]
  },
  {
   "cell_type": "code",
   "execution_count": 23,
   "id": "d3dbaf60-07b8-4cbd-8407-053a61188324",
   "metadata": {},
   "outputs": [],
   "source": [
    "import matplotlib.pyplot as plt"
   ]
  },
  {
   "cell_type": "code",
   "execution_count": 26,
   "id": "c541ae20-28e6-4f4e-b87f-d57d5f851f54",
   "metadata": {},
   "outputs": [
    {
     "data": {
      "image/png": "[encoded data removed]",
      "text/plain": [
       "<Figure size 1500x1000 with 1 Axes>"
      ]
     },
     "metadata": {},
     "output_type": "display_data"
    }
   ],
   "source": [
    "def plot_models_score_barplot(difficulty_rmse, resp_time_rmse, model_names):\n",
    "    # Numbers of pairs of bars you want\n",
    "    N = len(model_names)\n",
    "    # Data on X-axis\n",
    "    # Specify the values of blue bars (height)\n",
    "    blue_bar = difficulty_rmse\n",
    "    # Specify the values of orange bars (height)\n",
    "    orange_bar = resp_time_rmse\n",
    "    # Position of bars on x-axis\n",
    "    ind = np.arange(N)\n",
    "    # Figure size\n",
    "    plt.figure(figsize=(15,10))\n",
    "    # Width of a bar \n",
    "    width = 0.2       \n",
    "    # Plotting\n",
    "    #plt.bar(ind, blue_bar , width, label='Difficulty rmse')\n",
    "    plt.bar(ind + width, orange_bar, width, label='Response time rmse')\n",
    "    plt.xlabel('Machine learning models', fontsize=13)\n",
    "    plt.ylabel('Scores', fontsize=13)\n",
    "    plt.title('Comparative study of Machine Learning Models', fontsize=14)\n",
    "    # xticks()\n",
    "    # First argument - A list of positions at which ticks should be placed\n",
    "    # Second argument -  A list of labels to place at the given locations\n",
    "    plt.xticks(ind + width / 2,model_names, fontsize=13)\n",
    "    # Finding the best position for legends and putting it\n",
    "    plt.legend(loc='best', fontsize=13)\n",
    "    plt.show()\n",
    "\n",
    "plot_models_score_barplot(difficulty_rmse, resp_time_rmse, model_names)"
   ]
  },
  {
   "cell_type": "code",
   "execution_count": null,
   "id": "2d469925-2cd3-46f3-8c23-5161d1024ebf",
   "metadata": {},
   "outputs": [],
   "source": []
  }
 ],
 "metadata": {
  "kernelspec": {
   "display_name": "Python 3 (ipykernel)",
   "language": "python",
   "name": "python3"
  },
  "language_info": {
   "codemirror_mode": {
    "name": "ipython",
    "version": 3
   },
   "file_extension": ".py",
   "mimetype": "text/x-python",
   "name": "python",
   "nbconvert_exporter": "python",
   "pygments_lexer": "ipython3",
   "version": "3.8.17"
  }
 },
 "nbformat": 4,
 "nbformat_minor": 5
}
