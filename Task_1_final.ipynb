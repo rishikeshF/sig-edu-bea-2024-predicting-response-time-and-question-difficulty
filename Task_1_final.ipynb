{
 "cells": [
  {
   "cell_type": "markdown",
   "id": "cb4d3e56-9706-4a0d-823e-350f4cbd7e2c",
   "metadata": {},
   "source": [
    "# Model : One Neuron Network\n",
    "\n",
    "### Features: Embeddings + exam stage + picture (boolean)\n",
    "### Model: Simple Neural Network"
   ]
  },
  {
   "cell_type": "code",
   "execution_count": 48,
   "id": "678d7937-4ef0-490d-a1b8-6b663f57c980",
   "metadata": {},
   "outputs": [
    {
     "data": {
      "text/html": [
       "<div>\n",
       "<style scoped>\n",
       "    .dataframe tbody tr th:only-of-type {\n",
       "        vertical-align: middle;\n",
       "    }\n",
       "\n",
       "    .dataframe tbody tr th {\n",
       "        vertical-align: top;\n",
       "    }\n",
       "\n",
       "    .dataframe thead th {\n",
       "        text-align: right;\n",
       "    }\n",
       "</style>\n",
       "<table border=\"1\" class=\"dataframe\">\n",
       "  <thead>\n",
       "    <tr style=\"text-align: right;\">\n",
       "      <th></th>\n",
       "      <th>ItemNum</th>\n",
       "      <th>ItemStem_Text</th>\n",
       "      <th>Answer__A</th>\n",
       "      <th>Answer__B</th>\n",
       "      <th>Answer__C</th>\n",
       "      <th>Answer__D</th>\n",
       "      <th>Answer__E</th>\n",
       "      <th>Answer__F</th>\n",
       "      <th>Answer__G</th>\n",
       "      <th>Answer__H</th>\n",
       "      <th>Answer__I</th>\n",
       "      <th>Answer__J</th>\n",
       "      <th>Answer_Key</th>\n",
       "      <th>Answer_Text</th>\n",
       "      <th>ItemType</th>\n",
       "      <th>EXAM</th>\n",
       "      <th>Difficulty</th>\n",
       "      <th>Response_Time</th>\n",
       "    </tr>\n",
       "  </thead>\n",
       "  <tbody>\n",
       "    <tr>\n",
       "      <th>0</th>\n",
       "      <td>91</td>\n",
       "      <td>Over 1 year, a study is conducted to assess th...</td>\n",
       "      <td>Case-control study</td>\n",
       "      <td>Crossover study</td>\n",
       "      <td>Open-labeled clinical trial</td>\n",
       "      <td>Randomized clinical trial</td>\n",
       "      <td>Single-blind, randomized, controlled trial</td>\n",
       "      <td>0</td>\n",
       "      <td>0</td>\n",
       "      <td>0</td>\n",
       "      <td>0</td>\n",
       "      <td>0</td>\n",
       "      <td>C</td>\n",
       "      <td>Open-labeled clinical trial</td>\n",
       "      <td>Text</td>\n",
       "      <td>STEP 1</td>\n",
       "      <td>0.86</td>\n",
       "      <td>111.21</td>\n",
       "    </tr>\n",
       "    <tr>\n",
       "      <th>1</th>\n",
       "      <td>288</td>\n",
       "      <td>A previously healthy 52-year-old woman comes t...</td>\n",
       "      <td>Calcitriol production by activated macrophages</td>\n",
       "      <td>Local resorption of bone by metastases</td>\n",
       "      <td>Parathyroid hormone-related peptide secretion</td>\n",
       "      <td>Secretion of parathyroid hormone</td>\n",
       "      <td>Secretion of thyroid-stimulating hormone</td>\n",
       "      <td>0</td>\n",
       "      <td>0</td>\n",
       "      <td>0</td>\n",
       "      <td>0</td>\n",
       "      <td>0</td>\n",
       "      <td>A</td>\n",
       "      <td>Calcitriol production by activated macrophages</td>\n",
       "      <td>Text</td>\n",
       "      <td>STEP 1</td>\n",
       "      <td>0.44</td>\n",
       "      <td>83.94</td>\n",
       "    </tr>\n",
       "  </tbody>\n",
       "</table>\n",
       "</div>"
      ],
      "text/plain": [
       "   ItemNum                                      ItemStem_Text  \\\n",
       "0       91  Over 1 year, a study is conducted to assess th...   \n",
       "1      288  A previously healthy 52-year-old woman comes t...   \n",
       "\n",
       "                                        Answer__A  \\\n",
       "0                              Case-control study   \n",
       "1  Calcitriol production by activated macrophages   \n",
       "\n",
       "                                Answer__B  \\\n",
       "0                         Crossover study   \n",
       "1  Local resorption of bone by metastases   \n",
       "\n",
       "                                       Answer__C  \\\n",
       "0                    Open-labeled clinical trial   \n",
       "1  Parathyroid hormone-related peptide secretion   \n",
       "\n",
       "                          Answer__D  \\\n",
       "0         Randomized clinical trial   \n",
       "1  Secretion of parathyroid hormone   \n",
       "\n",
       "                                    Answer__E Answer__F Answer__G Answer__H  \\\n",
       "0  Single-blind, randomized, controlled trial         0         0         0   \n",
       "1    Secretion of thyroid-stimulating hormone         0         0         0   \n",
       "\n",
       "  Answer__I Answer__J Answer_Key  \\\n",
       "0         0         0          C   \n",
       "1         0         0          A   \n",
       "\n",
       "                                      Answer_Text ItemType    EXAM  \\\n",
       "0                     Open-labeled clinical trial     Text  STEP 1   \n",
       "1  Calcitriol production by activated macrophages     Text  STEP 1   \n",
       "\n",
       "   Difficulty  Response_Time  \n",
       "0        0.86         111.21  \n",
       "1        0.44          83.94  "
      ]
     },
     "execution_count": 48,
     "metadata": {},
     "output_type": "execute_result"
    }
   ],
   "source": [
    "# Import libraries/frameworks\n",
    "import pandas as pd\n",
    "import numpy as np\n",
    "from sklearn.model_selection import train_test_split\n",
    "from sentence_transformers import SentenceTransformer\n",
    "from sklearn.metrics import mean_squared_error\n",
    "from sklearn.ensemble import RandomForestRegressor\n",
    "from sklearn.model_selection import GridSearchCV\n",
    "from tqdm import tqdm\n",
    "import tensorflow as tf\n",
    "from tensorflow.keras import layers\n",
    "from tensorflow import keras\n",
    "import matplotlib.pyplot as plt\n",
    "tf.random.set_seed(1)\n",
    "\n",
    "df = pd.read_excel( 'train_final.xlsx' )\n",
    "test_data = pd.read_excel( 'test_final.xlsx' )\n",
    "test_target = pd.read_excel( 'gold_final.xlsx' )\n",
    "test_data = pd.merge( test_data, test_target, on = 'ItemNum' ) \n",
    "df.fillna(0, inplace=True)\n",
    "df.head(2)"
   ]
  },
  {
   "cell_type": "code",
   "execution_count": 49,
   "id": "8916c694-1a66-47a0-8462-cf721dead756",
   "metadata": {},
   "outputs": [
    {
     "data": {
      "text/html": [
       "<div>\n",
       "<style scoped>\n",
       "    .dataframe tbody tr th:only-of-type {\n",
       "        vertical-align: middle;\n",
       "    }\n",
       "\n",
       "    .dataframe tbody tr th {\n",
       "        vertical-align: top;\n",
       "    }\n",
       "\n",
       "    .dataframe thead th {\n",
       "        text-align: right;\n",
       "    }\n",
       "</style>\n",
       "<table border=\"1\" class=\"dataframe\">\n",
       "  <thead>\n",
       "    <tr style=\"text-align: right;\">\n",
       "      <th></th>\n",
       "      <th>ItemNum</th>\n",
       "      <th>ItemStem_Text</th>\n",
       "      <th>Answer__A</th>\n",
       "      <th>Answer__B</th>\n",
       "      <th>Answer__C</th>\n",
       "      <th>Answer__D</th>\n",
       "      <th>Answer__E</th>\n",
       "      <th>Answer__F</th>\n",
       "      <th>Answer__G</th>\n",
       "      <th>Answer__H</th>\n",
       "      <th>Answer__I</th>\n",
       "      <th>Answer__J</th>\n",
       "      <th>Answer_Key</th>\n",
       "      <th>Answer_Text</th>\n",
       "      <th>ItemType</th>\n",
       "      <th>EXAM</th>\n",
       "    </tr>\n",
       "  </thead>\n",
       "  <tbody>\n",
       "    <tr>\n",
       "      <th>187</th>\n",
       "      <td>167</td>\n",
       "      <td>A 25-year-old man volunteers to participate in...</td>\n",
       "      <td>NO BASE XML</td>\n",
       "      <td>NO BASE XML</td>\n",
       "      <td>NO BASE XML</td>\n",
       "      <td>NO BASE XML</td>\n",
       "      <td>NO BASE XML</td>\n",
       "      <td>NO BASE XML</td>\n",
       "      <td>NO BASE XML</td>\n",
       "      <td>NO BASE XML</td>\n",
       "      <td>NaN</td>\n",
       "      <td>NaN</td>\n",
       "      <td>H</td>\n",
       "      <td>NaN</td>\n",
       "      <td>PIX</td>\n",
       "      <td>STEP 1</td>\n",
       "    </tr>\n",
       "  </tbody>\n",
       "</table>\n",
       "</div>"
      ],
      "text/plain": [
       "     ItemNum                                      ItemStem_Text    Answer__A  \\\n",
       "187      167  A 25-year-old man volunteers to participate in...  NO BASE XML   \n",
       "\n",
       "       Answer__B    Answer__C    Answer__D    Answer__E    Answer__F  \\\n",
       "187  NO BASE XML  NO BASE XML  NO BASE XML  NO BASE XML  NO BASE XML   \n",
       "\n",
       "       Answer__G    Answer__H  Answer__I  Answer__J Answer_Key Answer_Text  \\\n",
       "187  NO BASE XML  NO BASE XML        NaN        NaN          H         NaN   \n",
       "\n",
       "    ItemType    EXAM  \n",
       "187      PIX  STEP 1  "
      ]
     },
     "execution_count": 49,
     "metadata": {},
     "output_type": "execute_result"
    }
   ],
   "source": [
    "test_data[test_data['Answer_Text'].isna()] #.isna().sum()"
   ]
  },
  {
   "cell_type": "code",
   "execution_count": 50,
   "id": "d95d72a9-32b6-49d6-808b-73f626e762e7",
   "metadata": {},
   "outputs": [],
   "source": [
    "test_data = pd.merge( test_data, test_target, on = 'ItemNum' ) "
   ]
  },
  {
   "cell_type": "code",
   "execution_count": 51,
   "id": "e5f961ee-f920-48c1-9820-ac2d6cd2ec7e",
   "metadata": {},
   "outputs": [
    {
     "data": {
      "text/html": [
       "<div>\n",
       "<style scoped>\n",
       "    .dataframe tbody tr th:only-of-type {\n",
       "        vertical-align: middle;\n",
       "    }\n",
       "\n",
       "    .dataframe tbody tr th {\n",
       "        vertical-align: top;\n",
       "    }\n",
       "\n",
       "    .dataframe thead th {\n",
       "        text-align: right;\n",
       "    }\n",
       "</style>\n",
       "<table border=\"1\" class=\"dataframe\">\n",
       "  <thead>\n",
       "    <tr style=\"text-align: right;\">\n",
       "      <th></th>\n",
       "      <th>ItemNum</th>\n",
       "      <th>ItemStem_Text</th>\n",
       "      <th>Answer__A</th>\n",
       "      <th>Answer__B</th>\n",
       "      <th>Answer__C</th>\n",
       "      <th>Answer__D</th>\n",
       "      <th>Answer__E</th>\n",
       "      <th>Answer__F</th>\n",
       "      <th>Answer__G</th>\n",
       "      <th>Answer__H</th>\n",
       "      <th>Answer__I</th>\n",
       "      <th>Answer__J</th>\n",
       "      <th>Answer_Key</th>\n",
       "      <th>Answer_Text</th>\n",
       "      <th>ItemType</th>\n",
       "      <th>EXAM</th>\n",
       "      <th>Difficulty</th>\n",
       "      <th>Response_Time</th>\n",
       "    </tr>\n",
       "  </thead>\n",
       "  <tbody>\n",
       "    <tr>\n",
       "      <th>0</th>\n",
       "      <td>552</td>\n",
       "      <td>A 78-year-old woman undergoes an outpatient la...</td>\n",
       "      <td>Gastroduodenal</td>\n",
       "      <td>Left gastric</td>\n",
       "      <td>Left hepatic</td>\n",
       "      <td>Right gastric</td>\n",
       "      <td>Right hepatic</td>\n",
       "      <td>NaN</td>\n",
       "      <td>NaN</td>\n",
       "      <td>NaN</td>\n",
       "      <td>NaN</td>\n",
       "      <td>NaN</td>\n",
       "      <td>E</td>\n",
       "      <td>Right hepatic</td>\n",
       "      <td>Text</td>\n",
       "      <td>STEP 1</td>\n",
       "      <td>0.52</td>\n",
       "      <td>75.21</td>\n",
       "    </tr>\n",
       "    <tr>\n",
       "      <th>1</th>\n",
       "      <td>16</td>\n",
       "      <td>A 48-year-old man dies suddenly of a cardiac a...</td>\n",
       "      <td>Acute inflammation</td>\n",
       "      <td>Fibrinous exudate</td>\n",
       "      <td>Fibrous scar</td>\n",
       "      <td>Granulation tissue</td>\n",
       "      <td>Normal kidney</td>\n",
       "      <td>NaN</td>\n",
       "      <td>NaN</td>\n",
       "      <td>NaN</td>\n",
       "      <td>NaN</td>\n",
       "      <td>NaN</td>\n",
       "      <td>E</td>\n",
       "      <td>Normal kidney</td>\n",
       "      <td>Text</td>\n",
       "      <td>STEP 1</td>\n",
       "      <td>0.70</td>\n",
       "      <td>80.88</td>\n",
       "    </tr>\n",
       "  </tbody>\n",
       "</table>\n",
       "</div>"
      ],
      "text/plain": [
       "   ItemNum                                      ItemStem_Text  \\\n",
       "0      552  A 78-year-old woman undergoes an outpatient la...   \n",
       "1       16  A 48-year-old man dies suddenly of a cardiac a...   \n",
       "\n",
       "            Answer__A          Answer__B     Answer__C           Answer__D  \\\n",
       "0      Gastroduodenal       Left gastric  Left hepatic       Right gastric   \n",
       "1  Acute inflammation  Fibrinous exudate  Fibrous scar  Granulation tissue   \n",
       "\n",
       "       Answer__E Answer__F Answer__G Answer__H  Answer__I  Answer__J  \\\n",
       "0  Right hepatic       NaN       NaN       NaN        NaN        NaN   \n",
       "1  Normal kidney       NaN       NaN       NaN        NaN        NaN   \n",
       "\n",
       "  Answer_Key    Answer_Text ItemType    EXAM  Difficulty  Response_Time  \n",
       "0          E  Right hepatic     Text  STEP 1        0.52          75.21  \n",
       "1          E  Normal kidney     Text  STEP 1        0.70          80.88  "
      ]
     },
     "execution_count": 51,
     "metadata": {},
     "output_type": "execute_result"
    }
   ],
   "source": [
    "test_data.head(2)"
   ]
  },
  {
   "cell_type": "code",
   "execution_count": 52,
   "id": "b9148eb8-818e-4062-b436-1f0f784a7057",
   "metadata": {},
   "outputs": [
    {
     "name": "stdout",
     "output_type": "stream",
     "text": [
      "EXAM_num\n",
      "0.33    190\n",
      "0.66    154\n",
      "1.00    122\n",
      "Name: count, dtype: int64\n"
     ]
    }
   ],
   "source": [
    "test_data.fillna( 0, inplace=True) \n",
    "\n",
    "df['ItemType_num'] = df.ItemType.apply(lambda x: 0 if x == 'PIX' else 1 ) \n",
    "test_data['ItemType_num'] = test_data.ItemType.apply(lambda x: 0 if x == 'PIX' else 1 ) \n",
    "\n",
    "def vectorizeEXAM(x):\n",
    "    if x == 'STEP 1' : \n",
    "        return .33\n",
    "    elif x == 'STEP 2' : \n",
    "        return .66\n",
    "    else: \n",
    "        return 1.0\n",
    "df['EXAM_num'] = df.EXAM.apply( vectorizeEXAM )\n",
    "test_data['EXAM_num'] = test_data.EXAM.apply( vectorizeEXAM )\n",
    "\n",
    "print(df['EXAM_num'].value_counts())\n",
    "\n",
    "X_cols = ['ItemStem_Text', 'Answer__A', 'Answer__B', 'Answer__C', 'Answer__D', 'Answer__E', 'Answer__F', 'Answer__G', 'Answer__H', \\\n",
    "           'Answer__I', 'Answer__J', 'Answer_Text'] \n",
    "X_num = [ 'ItemType_num', 'EXAM_num' ] \n",
    "y_1 = df['Difficulty']  "
   ]
  },
  {
   "cell_type": "code",
   "execution_count": 53,
   "id": "337027f6-9773-4466-ad9e-ff6263f3f4d2",
   "metadata": {},
   "outputs": [
    {
     "data": {
      "text/plain": [
       "768"
      ]
     },
     "execution_count": 53,
     "metadata": {},
     "output_type": "execute_result"
    }
   ],
   "source": [
    "def vectorizer( data ):\n",
    "    data = data.astype('str')\n",
    "    data_vec = []\n",
    "    for index, row in tqdm(data.iterrows()):\n",
    "        ItemStem_Text_vec = model.encode( row['ItemStem_Text'] )\n",
    "        cnt = 0\n",
    "        temp_vec = np.zeros(768)\n",
    "        for option in [ 'A', 'B', 'C', 'D', 'E', 'F', 'G', 'H', 'I', 'J' ] : \n",
    "            if row[ 'Answer__' + option ] != 0 : \n",
    "                cnt += 1\n",
    "                try: \n",
    "                    temp_vec += model.encode( row[ 'Answer__' + option ] )\n",
    "                except: \n",
    "                    print(f\"Error in {row[ 'Answer__' + option ]}\")\n",
    "                    cnt-=1\n",
    "        temp_vec /= cnt\n",
    "        Answer_vec = model.encode( row[ 'Answer_Text' ] )\n",
    "    \n",
    "        final_vec = ItemStem_Text_vec + temp_vec + Answer_vec \n",
    "        data_vec.append(final_vec)\n",
    "\n",
    "    return np.array(data_vec)\n",
    "\n",
    "# reference: https://huggingface.co/pritamdeka/S-PubMedBert-MS-MARCO\n",
    "model = SentenceTransformer('pritamdeka/S-PubMedBert-MS-MARCO')\n",
    "# example\n",
    "len(model.encode( 'this is it' ))"
   ]
  },
  {
   "cell_type": "code",
   "execution_count": 54,
   "id": "4aa31928-b95c-4e15-94c9-7e70c8d794c0",
   "metadata": {},
   "outputs": [
    {
     "data": {
      "text/plain": [
       "Index(['ItemNum', 'ItemStem_Text', 'Answer__A', 'Answer__B', 'Answer__C',\n",
       "       'Answer__D', 'Answer__E', 'Answer__F', 'Answer__G', 'Answer__H',\n",
       "       'Answer__I', 'Answer__J', 'Answer_Key', 'Answer_Text', 'ItemType',\n",
       "       'EXAM', 'Difficulty', 'Response_Time', 'ItemType_num', 'EXAM_num'],\n",
       "      dtype='object')"
      ]
     },
     "execution_count": 54,
     "metadata": {},
     "output_type": "execute_result"
    }
   ],
   "source": [
    "test_data.columns"
   ]
  },
  {
   "cell_type": "code",
   "execution_count": 55,
   "id": "a6e12a6c-4a37-477e-a950-ea99b001300c",
   "metadata": {},
   "outputs": [],
   "source": [
    "X_train1, X_val1, y_train1, y_val1 = train_test_split( df[X_cols + X_num ], y_1, test_size=0.1, random_state=1 ) \n",
    "X_test1, y_test1 = test_data[ X_cols + X_num ], test_data[ 'Difficulty' ] "
   ]
  },
  {
   "cell_type": "code",
   "execution_count": 56,
   "id": "fb7cfb0e-08ef-467b-90ef-754c3f2d618e",
   "metadata": {},
   "outputs": [
    {
     "name": "stderr",
     "output_type": "stream",
     "text": [
      "419it [01:57,  3.57it/s]\n",
      "47it [00:13,  3.40it/s]\n",
      "201it [01:02,  3.20it/s]"
     ]
    },
    {
     "name": "stdout",
     "output_type": "stream",
     "text": [
      "(419, 768) (201, 768) (47, 768)\n"
     ]
    },
    {
     "name": "stderr",
     "output_type": "stream",
     "text": [
      "\n"
     ]
    }
   ],
   "source": [
    "X_train_1_vec, X_val_1_vec, X_test_1_vec, =  vectorizer(X_train1[X_cols]), vectorizer(X_val1[X_cols]), vectorizer(X_test1[X_cols])\n",
    "print(X_train_1_vec.shape, X_test_1_vec.shape, X_val_1_vec.shape)\n",
    "\n",
    "train_1_vec = np.hstack((X_train_1_vec,X_train1[X_num].values))\n",
    "val_1_vec = np.hstack((X_val_1_vec, X_val1[X_num].values))\n",
    "test_1_vec = np.hstack((X_test_1_vec,X_test1[X_num].values)) "
   ]
  },
  {
   "cell_type": "code",
   "execution_count": 57,
   "id": "385d4f44-fb0c-4538-bf67-c2d9b93b9aa7",
   "metadata": {},
   "outputs": [
    {
     "name": "stdout",
     "output_type": "stream",
     "text": [
      "Epoch 1/20\n",
      "14/14 [==============================] - 1s 22ms/step - loss: 0.8956 - root_mean_squared_error: 0.9464 - val_loss: 0.4159 - val_root_mean_squared_error: 0.6449\n",
      "Epoch 2/20\n",
      "14/14 [==============================] - 0s 10ms/step - loss: 0.3908 - root_mean_squared_error: 0.6251 - val_loss: 0.3532 - val_root_mean_squared_error: 0.5943\n",
      "Epoch 3/20\n",
      "14/14 [==============================] - 0s 9ms/step - loss: 0.2785 - root_mean_squared_error: 0.5277 - val_loss: 0.2933 - val_root_mean_squared_error: 0.5416\n",
      "Epoch 4/20\n",
      "14/14 [==============================] - 0s 9ms/step - loss: 0.2508 - root_mean_squared_error: 0.5008 - val_loss: 0.2795 - val_root_mean_squared_error: 0.5287\n",
      "Epoch 5/20\n",
      "14/14 [==============================] - 0s 10ms/step - loss: 0.2187 - root_mean_squared_error: 0.4676 - val_loss: 0.2637 - val_root_mean_squared_error: 0.5135\n",
      "Epoch 6/20\n",
      "14/14 [==============================] - 0s 10ms/step - loss: 0.2048 - root_mean_squared_error: 0.4526 - val_loss: 0.2489 - val_root_mean_squared_error: 0.4989\n",
      "Epoch 7/20\n",
      "14/14 [==============================] - 0s 4ms/step - loss: 0.1825 - root_mean_squared_error: 0.4272 - val_loss: 0.2803 - val_root_mean_squared_error: 0.5295\n",
      "Epoch 8/20\n",
      "14/14 [==============================] - 0s 8ms/step - loss: 0.1933 - root_mean_squared_error: 0.4396 - val_loss: 0.2239 - val_root_mean_squared_error: 0.4732\n",
      "Epoch 9/20\n",
      "14/14 [==============================] - 0s 10ms/step - loss: 0.1579 - root_mean_squared_error: 0.3974 - val_loss: 0.2175 - val_root_mean_squared_error: 0.4663\n",
      "Epoch 10/20\n",
      "14/14 [==============================] - 0s 13ms/step - loss: 0.1651 - root_mean_squared_error: 0.4063 - val_loss: 0.2041 - val_root_mean_squared_error: 0.4517\n",
      "Epoch 11/20\n",
      "14/14 [==============================] - 0s 11ms/step - loss: 0.1626 - root_mean_squared_error: 0.4033 - val_loss: 0.1992 - val_root_mean_squared_error: 0.4463\n",
      "Epoch 12/20\n",
      "14/14 [==============================] - 0s 15ms/step - loss: 0.1329 - root_mean_squared_error: 0.3645 - val_loss: 0.1972 - val_root_mean_squared_error: 0.4441\n",
      "Epoch 13/20\n",
      "14/14 [==============================] - 0s 14ms/step - loss: 0.1249 - root_mean_squared_error: 0.3534 - val_loss: 0.1867 - val_root_mean_squared_error: 0.4321\n",
      "Epoch 14/20\n",
      "14/14 [==============================] - 0s 9ms/step - loss: 0.1178 - root_mean_squared_error: 0.3432 - val_loss: 0.1856 - val_root_mean_squared_error: 0.4309\n",
      "Epoch 15/20\n",
      "14/14 [==============================] - 0s 10ms/step - loss: 0.1126 - root_mean_squared_error: 0.3356 - val_loss: 0.1832 - val_root_mean_squared_error: 0.4280\n",
      "Epoch 16/20\n",
      "14/14 [==============================] - 0s 13ms/step - loss: 0.1216 - root_mean_squared_error: 0.3487 - val_loss: 0.1820 - val_root_mean_squared_error: 0.4266\n",
      "Epoch 17/20\n",
      "14/14 [==============================] - 0s 8ms/step - loss: 0.1173 - root_mean_squared_error: 0.3424 - val_loss: 0.1792 - val_root_mean_squared_error: 0.4234\n",
      "Epoch 18/20\n",
      "14/14 [==============================] - 0s 8ms/step - loss: 0.1008 - root_mean_squared_error: 0.3175 - val_loss: 0.1698 - val_root_mean_squared_error: 0.4121\n",
      "Epoch 19/20\n",
      "14/14 [==============================] - 0s 4ms/step - loss: 0.1028 - root_mean_squared_error: 0.3206 - val_loss: 0.1771 - val_root_mean_squared_error: 0.4208\n",
      "Epoch 20/20\n",
      "14/14 [==============================] - 0s 11ms/step - loss: 0.1090 - root_mean_squared_error: 0.3301 - val_loss: 0.1650 - val_root_mean_squared_error: 0.4062\n",
      "Model: \"sequential_8\"\n",
      "_________________________________________________________________\n",
      " Layer (type)                Output Shape              Param #   \n",
      "=================================================================\n",
      " dense_8 (Dense)             (None, 1)                 771       \n",
      "                                                                 \n",
      "=================================================================\n",
      "Total params: 771 (3.01 KB)\n",
      "Trainable params: 771 (3.01 KB)\n",
      "Non-trainable params: 0 (0.00 Byte)\n",
      "_________________________________________________________________\n"
     ]
    }
   ],
   "source": [
    "dl_model_1 = tf.keras.Sequential([\n",
    "      tf.keras.layers.InputLayer(input_shape=(770,)),\n",
    "      layers.Dense(1)\n",
    "  ])\n",
    "\n",
    "dl_model_1.compile( optimizer=tf.keras.optimizers.Adam(0.001),\n",
    "                  loss = tf.keras.losses.MeanSquaredError(),\n",
    "                  metrics=[tf.keras.metrics.RootMeanSquaredError()])\n",
    "\n",
    "checkpoint = tf.keras.callbacks.ModelCheckpoint(\n",
    "    \"./checkpoints\",\n",
    "    monitor= 'val_loss',\n",
    "    verbose= 0,\n",
    "    save_best_only=  True,\n",
    "    save_weights_only=  True,\n",
    "    mode=  'auto',\n",
    "    save_freq='epoch',\n",
    "    options=None,\n",
    "    initial_value_threshold=None,\n",
    ")\n",
    "\n",
    "history1 = dl_model_1.fit( train_1_vec, y_train1, validation_data=(val_1_vec, y_val1), epochs = 20, callbacks=[ checkpoint ] )\n",
    "\n",
    "dl_model_1.summary()"
   ]
  },
  {
   "cell_type": "code",
   "execution_count": 58,
   "id": "1929d060-a7c7-400b-922a-288c2e2cbb8d",
   "metadata": {},
   "outputs": [
    {
     "data": {
      "image/png": "[encoded data removed]",
      "text/plain": [
       "<Figure size 640x480 with 1 Axes>"
      ]
     },
     "metadata": {},
     "output_type": "display_data"
    },
    {
     "data": {
      "image/png": "[encoded data removed]",
      "text/plain": [
       "<Figure size 640x480 with 1 Axes>"
      ]
     },
     "metadata": {},
     "output_type": "display_data"
    }
   ],
   "source": [
    "rmse = history1.history['root_mean_squared_error']\n",
    "val_rmse = history1.history['val_root_mean_squared_error']\n",
    "loss = history1.history['loss']\n",
    "val_loss = history1.history['val_loss']\n",
    "\n",
    "\n",
    "epochs = range(1, len(rmse) + 1)\n",
    "\n",
    "plt.plot(epochs, rmse, 'bo', label='Training acc')\n",
    "plt.plot(epochs, val_rmse, 'b', label='Validation acc')\n",
    "plt.title('Training and validation rmse')\n",
    "plt.legend()\n",
    "\n",
    "plt.figure()\n",
    "\n",
    "plt.plot(epochs, loss, 'bo', label='Training loss')\n",
    "plt.plot(epochs, val_loss, 'b', label='Validation loss')\n",
    "plt.title('Training and validation loss')\n",
    "plt.legend()\n",
    "\n",
    "plt.show()"
   ]
  },
  {
   "cell_type": "code",
   "execution_count": 59,
   "id": "1f1d0fcd-d9af-4f5a-bbb1-67c26cb85ac1",
   "metadata": {},
   "outputs": [
    {
     "name": "stdout",
     "output_type": "stream",
     "text": [
      "7/7 [==============================] - 0s 576us/step\n",
      "0.3686509046915881\n"
     ]
    }
   ],
   "source": [
    "dl_model_1.load_weights( \"./checkpoints\" )\n",
    "y1_predict = dl_model_1.predict(test_1_vec)\n",
    "dl_sn_rmse = mean_squared_error( y_test1, y1_predict, squared=False ) \n",
    "print( dl_sn_rmse )"
   ]
  },
  {
   "cell_type": "code",
   "execution_count": null,
   "id": "f5ace661-7c24-4f6b-bb89-26bda92baa51",
   "metadata": {},
   "outputs": [],
   "source": []
  }
 ],
 "metadata": {
  "kernelspec": {
   "display_name": "Python 3 (ipykernel)",
   "language": "python",
   "name": "python3"
  },
  "language_info": {
   "codemirror_mode": {
    "name": "ipython",
    "version": 3
   },
   "file_extension": ".py",
   "mimetype": "text/x-python",
   "name": "python",
   "nbconvert_exporter": "python",
   "pygments_lexer": "ipython3",
   "version": "3.8.17"
  }
 },
 "nbformat": 4,
 "nbformat_minor": 5
}
